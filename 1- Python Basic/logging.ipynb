{
 "cells": [
  {
   "cell_type": "markdown",
   "metadata": {},
   "source": [
    "## Logging \n",
    "Providing a way to track events, errors and operational information"
   ]
  },
  {
   "cell_type": "code",
   "execution_count": 4,
   "metadata": {},
   "outputs": [
    {
     "name": "stderr",
     "output_type": "stream",
     "text": [
      "DEBUG:root:this is a debugging message\n",
      "INFO:root:This is a info message\n",
      "ERROR:root:This is a error messafe\n"
     ]
    }
   ],
   "source": [
    "import logging\n",
    "\n",
    "logging.basicConfig(level=logging.DEBUG)\n",
    "\n",
    "logging.debug(\"this is a debugging message\")\n",
    "logging.info(\"This is a info message\")\n",
    "\n",
    "logging.error(\"This is a error messafe\")"
   ]
  },
  {
   "cell_type": "code",
   "execution_count": 8,
   "metadata": {},
   "outputs": [
    {
     "name": "stderr",
     "output_type": "stream",
     "text": [
      "DEBUG:root:this is a debugging message\n",
      "INFO:root:This is a info message\n",
      "ERROR:root:This is a error messafe\n"
     ]
    }
   ],
   "source": [
    "## Configuring logging\n",
    "\n",
    "logging.basicConfig(\n",
    "    level = logging.DEBUG,\n",
    "    format = '%(asctime)s - %(name)s - %(message)s', \n",
    "    datefmt = '%y - %m - %d %H:%M:%S'\n",
    ")\n",
    "\n",
    "logging.debug(\"this is a debugging message\")\n",
    "logging.info(\"This is a info message\")\n",
    "\n",
    "logging.error(\"This is a error messafe\")"
   ]
  },
  {
   "cell_type": "code",
   "execution_count": 9,
   "metadata": {},
   "outputs": [
    {
     "name": "stdout",
     "output_type": "stream",
     "text": [
      "Collecting logging\n",
      "  Downloading logging-0.4.9.6.tar.gz (96 kB)\n",
      "     ---------------------------------------- 0.0/96.0 kB ? eta -:--:--\n",
      "     ---------------------------------------- 0.0/96.0 kB ? eta -:--:--\n",
      "     ---------------------------------------- 0.0/96.0 kB ? eta -:--:--\n",
      "     ------------ --------------------------- 30.7/96.0 kB ? eta -:--:--\n",
      "     ------------ --------------------------- 30.7/96.0 kB ? eta -:--:--\n",
      "     ------------ --------------------------- 30.7/96.0 kB ? eta -:--:--\n",
      "     ------------ --------------------------- 30.7/96.0 kB ? eta -:--:--\n",
      "     ------------ --------------------------- 30.7/96.0 kB ? eta -:--:--\n",
      "     ------------ --------------------------- 30.7/96.0 kB ? eta -:--:--\n",
      "     ------------ --------------------------- 30.7/96.0 kB ? eta -:--:--\n",
      "     ------------ --------------------------- 30.7/96.0 kB ? eta -:--:--\n",
      "     ------------ --------------------------- 30.7/96.0 kB ? eta -:--:--\n",
      "     ------------ --------------------------- 30.7/96.0 kB ? eta -:--:--\n",
      "     ------------ --------------------------- 30.7/96.0 kB ? eta -:--:--\n",
      "     ---------------------------- --------- 71.7/96.0 kB 122.9 kB/s eta 0:00:01\n",
      "     ---------------------------- --------- 71.7/96.0 kB 122.9 kB/s eta 0:00:01\n",
      "     ---------------------------- --------- 71.7/96.0 kB 122.9 kB/s eta 0:00:01\n",
      "     ---------------------------- --------- 71.7/96.0 kB 122.9 kB/s eta 0:00:01\n",
      "     ---------------------------- --------- 71.7/96.0 kB 122.9 kB/s eta 0:00:01\n",
      "     ---------------------------- --------- 71.7/96.0 kB 122.9 kB/s eta 0:00:01\n",
      "     ---------------------------- --------- 71.7/96.0 kB 122.9 kB/s eta 0:00:01\n",
      "     ---------------------------- --------- 71.7/96.0 kB 122.9 kB/s eta 0:00:01\n",
      "     ---------------------------- --------- 71.7/96.0 kB 122.9 kB/s eta 0:00:01\n",
      "     ---------------------------- --------- 71.7/96.0 kB 122.9 kB/s eta 0:00:01\n",
      "     ---------------------------- --------- 71.7/96.0 kB 122.9 kB/s eta 0:00:01\n",
      "     ---------------------------- --------- 71.7/96.0 kB 122.9 kB/s eta 0:00:01\n",
      "     ---------------------------- --------- 71.7/96.0 kB 122.9 kB/s eta 0:00:01\n",
      "     ---------------------------- --------- 71.7/96.0 kB 122.9 kB/s eta 0:00:01\n",
      "     ---------------------------- --------- 71.7/96.0 kB 122.9 kB/s eta 0:00:01\n",
      "     ---------------------------- --------- 71.7/96.0 kB 122.9 kB/s eta 0:00:01\n",
      "     ---------------------------- --------- 71.7/96.0 kB 122.9 kB/s eta 0:00:01\n",
      "     ---------------------------- --------- 71.7/96.0 kB 122.9 kB/s eta 0:00:01\n",
      "     ---------------------------- --------- 71.7/96.0 kB 122.9 kB/s eta 0:00:01\n",
      "     ---------------------------- --------- 71.7/96.0 kB 122.9 kB/s eta 0:00:01\n",
      "     ---------------------------- --------- 71.7/96.0 kB 122.9 kB/s eta 0:00:01\n",
      "     ---------------------------- --------- 71.7/96.0 kB 122.9 kB/s eta 0:00:01\n",
      "     ---------------------------- --------- 71.7/96.0 kB 122.9 kB/s eta 0:00:01\n",
      "     ---------------------------- --------- 71.7/96.0 kB 122.9 kB/s eta 0:00:01\n",
      "     ---------------------------- --------- 71.7/96.0 kB 122.9 kB/s eta 0:00:01\n",
      "     ---------------------------- --------- 71.7/96.0 kB 122.9 kB/s eta 0:00:01\n",
      "     ---------------------------- --------- 71.7/96.0 kB 122.9 kB/s eta 0:00:01\n",
      "     ---------------------------- --------- 71.7/96.0 kB 122.9 kB/s eta 0:00:01\n",
      "     ---------------------------- --------- 71.7/96.0 kB 122.9 kB/s eta 0:00:01\n",
      "     ---------------------------- --------- 71.7/96.0 kB 122.9 kB/s eta 0:00:01\n",
      "     ---------------------------- --------- 71.7/96.0 kB 122.9 kB/s eta 0:00:01\n",
      "     ---------------------------- --------- 71.7/96.0 kB 122.9 kB/s eta 0:00:01\n",
      "     ---------------------------- --------- 71.7/96.0 kB 122.9 kB/s eta 0:00:01\n",
      "     ---------------------------- --------- 71.7/96.0 kB 122.9 kB/s eta 0:00:01\n",
      "     ---------------------------- --------- 71.7/96.0 kB 122.9 kB/s eta 0:00:01\n",
      "     ---------------------------- --------- 71.7/96.0 kB 122.9 kB/s eta 0:00:01\n",
      "     ---------------------------- --------- 71.7/96.0 kB 122.9 kB/s eta 0:00:01\n",
      "     ---------------------------- --------- 71.7/96.0 kB 122.9 kB/s eta 0:00:01\n",
      "     ---------------------------- --------- 71.7/96.0 kB 122.9 kB/s eta 0:00:01\n",
      "     ---------------------------- --------- 71.7/96.0 kB 122.9 kB/s eta 0:00:01\n",
      "     ---------------------------- --------- 71.7/96.0 kB 122.9 kB/s eta 0:00:01\n",
      "     ---------------------------- --------- 71.7/96.0 kB 122.9 kB/s eta 0:00:01\n",
      "     ---------------------------- --------- 71.7/96.0 kB 122.9 kB/s eta 0:00:01\n",
      "     ---------------------------- --------- 71.7/96.0 kB 122.9 kB/s eta 0:00:01\n",
      "     ---------------------------- --------- 71.7/96.0 kB 122.9 kB/s eta 0:00:01\n",
      "     ---------------------------- --------- 71.7/96.0 kB 122.9 kB/s eta 0:00:01\n",
      "     ---------------------------- --------- 71.7/96.0 kB 122.9 kB/s eta 0:00:01\n",
      "     ---------------------------- --------- 71.7/96.0 kB 122.9 kB/s eta 0:00:01\n",
      "     ---------------------------- --------- 71.7/96.0 kB 122.9 kB/s eta 0:00:01\n",
      "     ---------------------------- --------- 71.7/96.0 kB 122.9 kB/s eta 0:00:01\n",
      "     ---------------------------- --------- 71.7/96.0 kB 122.9 kB/s eta 0:00:01\n",
      "     ---------------------------- --------- 71.7/96.0 kB 122.9 kB/s eta 0:00:01\n",
      "     ---------------------------- --------- 71.7/96.0 kB 122.9 kB/s eta 0:00:01\n",
      "     ---------------------------- --------- 71.7/96.0 kB 122.9 kB/s eta 0:00:01\n",
      "     ---------------------------- --------- 71.7/96.0 kB 122.9 kB/s eta 0:00:01\n",
      "     ---------------------------- --------- 71.7/96.0 kB 122.9 kB/s eta 0:00:01\n",
      "     ---------------------------- --------- 71.7/96.0 kB 122.9 kB/s eta 0:00:01\n",
      "     ---------------------------- --------- 71.7/96.0 kB 122.9 kB/s eta 0:00:01\n",
      "     ---------------------------- --------- 71.7/96.0 kB 122.9 kB/s eta 0:00:01\n",
      "     ---------------------------- --------- 71.7/96.0 kB 122.9 kB/s eta 0:00:01\n",
      "     ---------------------------- --------- 71.7/96.0 kB 122.9 kB/s eta 0:00:01\n",
      "     ---------------------------- --------- 71.7/96.0 kB 122.9 kB/s eta 0:00:01\n",
      "     ---------------------------- --------- 71.7/96.0 kB 122.9 kB/s eta 0:00:01\n",
      "     --------------------------------------- 96.0/96.0 kB 24.7 kB/s eta 0:00:00\n",
      "  Preparing metadata (setup.py): started\n",
      "  Preparing metadata (setup.py): finished with status 'error'\n",
      "Note: you may need to restart the kernel to use updated packages.\n"
     ]
    },
    {
     "name": "stderr",
     "output_type": "stream",
     "text": [
      "  error: subprocess-exited-with-error\n",
      "  \n",
      "  × python setup.py egg_info did not run successfully.\n",
      "  │ exit code: 1\n",
      "  ╰─> [24 lines of output]\n",
      "      Traceback (most recent call last):\n",
      "        File \"<string>\", line 2, in <module>\n",
      "        File \"<pip-setuptools-caller>\", line 14, in <module>\n",
      "        File \"d:\\Machine Learning full\\Python\\venv\\Lib\\site-packages\\setuptools\\__init__.py\", line 13, in <module>\n",
      "          import _distutils_hack.override  # noqa: F401\n",
      "          ^^^^^^^^^^^^^^^^^^^^^^^^^^^^^^^\n",
      "        File \"d:\\Machine Learning full\\Python\\venv\\Lib\\site-packages\\_distutils_hack\\override.py\", line 1, in <module>\n",
      "          __import__('_distutils_hack').do_override()\n",
      "        File \"d:\\Machine Learning full\\Python\\venv\\Lib\\site-packages\\_distutils_hack\\__init__.py\", line 91, in do_override\n",
      "          ensure_local_distutils()\n",
      "        File \"d:\\Machine Learning full\\Python\\venv\\Lib\\site-packages\\_distutils_hack\\__init__.py\", line 77, in ensure_local_distutils\n",
      "          core = importlib.import_module('distutils.core')\n",
      "                 ^^^^^^^^^^^^^^^^^^^^^^^^^^^^^^^^^^^^^^^^^\n",
      "        File \"d:\\Machine Learning full\\Python\\venv\\Lib\\importlib\\__init__.py\", line 90, in import_module\n",
      "          return _bootstrap._gcd_import(name[level:], package, level)\n",
      "                 ^^^^^^^^^^^^^^^^^^^^^^^^^^^^^^^^^^^^^^^^^^^^^^^^^^^^\n",
      "        File \"d:\\Machine Learning full\\Python\\venv\\Lib\\site-packages\\setuptools\\_distutils\\core.py\", line 13, in <module>\n",
      "          from .cmd import Command\n",
      "        File \"d:\\Machine Learning full\\Python\\venv\\Lib\\site-packages\\setuptools\\_distutils\\cmd.py\", line 7, in <module>\n",
      "          import logging\n",
      "        File \"C:\\Users\\nikhil singh\\AppData\\Local\\Temp\\pip-install-yd95p1yx\\logging_45896a3808aa4a71894472a5f6179fe4\\logging\\__init__.py\", line 618\n",
      "          raise NotImplementedError, 'emit must be implemented '\\\n",
      "                                   ^\n",
      "      SyntaxError: invalid syntax\n",
      "      [end of output]\n",
      "  \n",
      "  note: This error originates from a subprocess, and is likely not a problem with pip.\n",
      "error: metadata-generation-failed\n",
      "\n",
      "× Encountered error while generating package metadata.\n",
      "╰─> See above for output.\n",
      "\n",
      "note: This is an issue with the package mentioned above, not pip.\n",
      "hint: See above for details.\n"
     ]
    }
   ],
   "source": [
    "pip install logging"
   ]
  },
  {
   "cell_type": "code",
   "execution_count": null,
   "metadata": {},
   "outputs": [],
   "source": []
  },
  {
   "cell_type": "code",
   "execution_count": null,
   "metadata": {},
   "outputs": [],
   "source": []
  },
  {
   "cell_type": "code",
   "execution_count": null,
   "metadata": {},
   "outputs": [],
   "source": []
  },
  {
   "cell_type": "code",
   "execution_count": null,
   "metadata": {},
   "outputs": [],
   "source": []
  },
  {
   "cell_type": "code",
   "execution_count": null,
   "metadata": {},
   "outputs": [],
   "source": []
  },
  {
   "cell_type": "code",
   "execution_count": null,
   "metadata": {},
   "outputs": [],
   "source": []
  },
  {
   "cell_type": "code",
   "execution_count": null,
   "metadata": {},
   "outputs": [],
   "source": []
  }
 ],
 "metadata": {
  "kernelspec": {
   "display_name": "venv",
   "language": "python",
   "name": "python3"
  },
  "language_info": {
   "codemirror_mode": {
    "name": "ipython",
    "version": 3
   },
   "file_extension": ".py",
   "mimetype": "text/x-python",
   "name": "python",
   "nbconvert_exporter": "python",
   "pygments_lexer": "ipython3",
   "version": "3.12.0"
  }
 },
 "nbformat": 4,
 "nbformat_minor": 2
}
