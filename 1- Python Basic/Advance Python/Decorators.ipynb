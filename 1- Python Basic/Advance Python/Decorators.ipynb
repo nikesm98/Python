{
 "cells": [
  {
   "cell_type": "markdown",
   "metadata": {},
   "source": [
    "## Decorators\n",
    "are powerful and felxible features in python that allows you to modify the behavior of a function or class method. They are commonly used to add functionality "
   ]
  },
  {
   "cell_type": "code",
   "execution_count": null,
   "metadata": {},
   "outputs": [],
   "source": [
    "\n",
    "###Fucntions\n",
    "###Closures\n",
    "###Decorators"
   ]
  },
  {
   "cell_type": "code",
   "execution_count": 10,
   "metadata": {},
   "outputs": [
    {
     "name": "stdout",
     "output_type": "stream",
     "text": [
      "Hey Welcome to the advance python course\n"
     ]
    }
   ],
   "source": [
    "def Welcome():\n",
    "    print(\"Hey Welcome to the advance python course\")\n",
    "# print(Welcome())\n",
    "\n",
    "Welcome()"
   ]
  },
  {
   "cell_type": "code",
   "execution_count": 11,
   "metadata": {},
   "outputs": [
    {
     "name": "stdout",
     "output_type": "stream",
     "text": [
      "Hey Welcome to the advance python course\n",
      "Hey Welcome to the advance python course\n"
     ]
    }
   ],
   "source": [
    "wel = Welcome\n",
    "wel()\n",
    "del Welcome\n",
    "wel()"
   ]
  },
  {
   "cell_type": "code",
   "execution_count": 13,
   "metadata": {},
   "outputs": [],
   "source": [
    "## closure : funciton inside fucntions \n",
    "\n",
    "def main_welcome():\n",
    "    msg = 'Hey Weclcome'\n",
    "\n",
    "    def sub_welcome():\n",
    "        print(\"Hey welcome to this part of the course\")\n",
    "\n",
    "        print(\"you should learn this properly\")\n",
    "\n",
    "    return sub_welcome()"
   ]
  },
  {
   "cell_type": "code",
   "execution_count": 14,
   "metadata": {},
   "outputs": [
    {
     "name": "stdout",
     "output_type": "stream",
     "text": [
      "Hey welcome to this part of the course\n",
      "you should learn this properly\n"
     ]
    }
   ],
   "source": [
    "main_welcome()"
   ]
  },
  {
   "cell_type": "code",
   "execution_count": null,
   "metadata": {},
   "outputs": [],
   "source": []
  },
  {
   "cell_type": "code",
   "execution_count": null,
   "metadata": {},
   "outputs": [],
   "source": []
  }
 ],
 "metadata": {
  "kernelspec": {
   "display_name": "venv",
   "language": "python",
   "name": "python3"
  },
  "language_info": {
   "codemirror_mode": {
    "name": "ipython",
    "version": 3
   },
   "file_extension": ".py",
   "mimetype": "text/x-python",
   "name": "python",
   "nbconvert_exporter": "python",
   "pygments_lexer": "ipython3",
   "version": "3.12.0"
  }
 },
 "nbformat": 4,
 "nbformat_minor": 2
}
