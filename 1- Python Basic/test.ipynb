{
 "cells": [
  {
   "cell_type": "markdown",
   "metadata": {},
   "source": [
    "###Python Example"
   ]
  },
  {
   "cell_type": "code",
   "execution_count": 1,
   "metadata": {},
   "outputs": [
    {
     "data": {
      "text/plain": [
       "3"
      ]
     },
     "execution_count": 1,
     "metadata": {},
     "output_type": "execute_result"
    }
   ],
   "source": [
    "1+2"
   ]
  },
  {
   "cell_type": "code",
   "execution_count": 3,
   "metadata": {},
   "outputs": [
    {
     "name": "stdout",
     "output_type": "stream",
     "text": [
      "Nikhil Singh\n",
      "Mahara\n"
     ]
    }
   ],
   "source": [
    "## this is my comment in single line and there is also one with multi line comments \n",
    "\n",
    "name = 'Nikhil Singh'\n",
    "Name = 'Mahara'\n",
    "\n",
    "print(name)\n",
    "print(Name)"
   ]
  },
  {
   "cell_type": "markdown",
   "metadata": {},
   "source": [
    "## Understanding the semantics of python \n",
    "## Variables are default understood by the interpreter\n"
   ]
  },
  {
   "cell_type": "code",
   "execution_count": 4,
   "metadata": {},
   "outputs": [],
   "source": [
    "name = 'Nikhil singh'\n",
    "age = 12"
   ]
  },
  {
   "cell_type": "code",
   "execution_count": 7,
   "metadata": {},
   "outputs": [
    {
     "data": {
      "text/plain": [
       "int"
      ]
     },
     "execution_count": 7,
     "metadata": {},
     "output_type": "execute_result"
    }
   ],
   "source": [
    "type(name)\n",
    "type(age)\n"
   ]
  },
  {
   "cell_type": "code",
   "execution_count": 11,
   "metadata": {},
   "outputs": [
    {
     "name": "stdout",
     "output_type": "stream",
     "text": [
      "name : Nikhil singh\n",
      "age : 20\n",
      "height : 6.1\n"
     ]
    }
   ],
   "source": [
    "name = 'Nikhil singh'\n",
    "age = 20 \n",
    "height = 6.1\n",
    "\n",
    "## print the variables\n",
    "print(\"name :\", name)\n",
    "print(\"age :\", age)\n",
    "print(\"height :\", height)\n",
    "\n"
   ]
  },
  {
   "cell_type": "code",
   "execution_count": 12,
   "metadata": {},
   "outputs": [],
   "source": [
    "# valid variable names\n",
    "# naming convections that should be declerative and understandable\n",
    "\n",
    "first_name = \"nikhil\"\n",
    "last_name = \"singh\"\n"
   ]
  },
  {
   "cell_type": "code",
   "execution_count": 14,
   "metadata": {},
   "outputs": [
    {
     "name": "stdout",
     "output_type": "stream",
     "text": [
      "<class 'str'>\n"
     ]
    }
   ],
   "source": [
    "# python is dynamically typed, type of a variable is determined on run time.\n",
    "\n",
    "name = 'abc'\n",
    "print(type(name))  # Output: <class 'str'>"
   ]
  },
  {
   "cell_type": "code",
   "execution_count": 16,
   "metadata": {},
   "outputs": [
    {
     "name": "stdout",
     "output_type": "stream",
     "text": [
      "<class 'int'>\n",
      "20\n",
      "<class 'str'>\n"
     ]
    }
   ],
   "source": [
    "# type conversiom\n",
    "\n",
    "age = 20\n",
    "print(type(age)) \n",
    "\n",
    "age_str = str(age)\n",
    "print(age_str)\n",
    "print(type(age_str))"
   ]
  },
  {
   "cell_type": "code",
   "execution_count": 17,
   "metadata": {},
   "outputs": [
    {
     "name": "stdout",
     "output_type": "stream",
     "text": [
      "<class 'str'>\n",
      "<class 'int'>\n",
      "<class 'float'>\n"
     ]
    }
   ],
   "source": [
    "# Dynamic Typing\n",
    "\n",
    "var = 'name'\n",
    "print(type(var))  \n",
    "\n",
    "var = 12\n",
    "print(type(var))\n",
    "\n",
    "var = 3.144\n",
    "print(type(var))\n"
   ]
  },
  {
   "cell_type": "code",
   "execution_count": 21,
   "metadata": {},
   "outputs": [
    {
     "name": "stdout",
     "output_type": "stream",
     "text": [
      "23 <class 'int'>\n"
     ]
    }
   ],
   "source": [
    "age = int(input(\"what is your age\"))\n",
    "print(age, type(age))"
   ]
  },
  {
   "cell_type": "code",
   "execution_count": 23,
   "metadata": {},
   "outputs": [
    {
     "name": "stdout",
     "output_type": "stream",
     "text": [
      "Sum:  26.0\n",
      "Product:  69.0\n",
      "Diffrence:  20.0\n",
      "Divide:  7.666666666666667\n"
     ]
    },
    {
     "ename": "",
     "evalue": "",
     "output_type": "error",
     "traceback": [
      "\u001b[1;31mThe Kernel crashed while executing code in the current cell or a previous cell. \n",
      "\u001b[1;31mPlease review the code in the cell(s) to identify a possible cause of the failure. \n",
      "\u001b[1;31mClick <a href='https://aka.ms/vscodeJupyterKernelCrash'>here</a> for more info. \n",
      "\u001b[1;31mView Jupyter <a href='command:jupyter.viewOutput'>log</a> for further details."
     ]
    }
   ],
   "source": [
    "# Simple Calculator\n",
    "\n",
    "num1 = float(input(\"write the fisrt number: \"))\n",
    "num2 = float(input(\"write your second number: \"))\n",
    "\n",
    "sum =  num1 + num2\n",
    "product = num1 * num2\n",
    "diffrence = num1 - num2\n",
    "divide  = num1 / num2\n",
    "\n",
    "print(\"Sum: \", sum)\n",
    "print(\"Product: \", product)\n",
    "print(\"Diffrence: \", diffrence)\n",
    "print(\"Divide: \", divide)"
   ]
  },
  {
   "cell_type": "code",
   "execution_count": null,
   "metadata": {},
   "outputs": [],
   "source": []
  }
 ],
 "metadata": {
  "kernelspec": {
   "display_name": "Python 3",
   "language": "python",
   "name": "python3"
  },
  "language_info": {
   "codemirror_mode": {
    "name": "ipython",
    "version": 3
   },
   "file_extension": ".py",
   "mimetype": "text/x-python",
   "name": "python",
   "nbconvert_exporter": "python",
   "pygments_lexer": "ipython3",
   "version": "3.12.0"
  }
 },
 "nbformat": 4,
 "nbformat_minor": 2
}
