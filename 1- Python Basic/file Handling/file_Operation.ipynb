{
 "cells": [
  {
   "cell_type": "markdown",
   "metadata": {},
   "source": [
    "File Operations - Read and Write"
   ]
  },
  {
   "cell_type": "code",
   "execution_count": 2,
   "metadata": {},
   "outputs": [
    {
     "name": "stdout",
     "output_type": "stream",
     "text": [
      "Hello, My name is Nikhil Singh Mahara\n",
      "what are u doing all along\n",
      "\n"
     ]
    }
   ],
   "source": [
    "with open ('example.txt' , 'r') as file:\n",
    "    content = file.read()\n",
    "    print(content)"
   ]
  },
  {
   "cell_type": "code",
   "execution_count": 3,
   "metadata": {},
   "outputs": [
    {
     "name": "stdout",
     "output_type": "stream",
     "text": [
      "Hello, My name is Nikhil Singh Mahara\n",
      "what are u doing all along\n"
     ]
    }
   ],
   "source": [
    "with open ('example.txt', 'r') as file:\n",
    "    for line in file:\n",
    "        print(line.strip())"
   ]
  },
  {
   "cell_type": "code",
   "execution_count": 9,
   "metadata": {},
   "outputs": [],
   "source": [
    "## Writing a file (ovverwrite)\n",
    "\n",
    "with open('example.txt', 'w') as file:\n",
    "    file.write('Hello World \\n')\n",
    "    file.write('This is a new overwrite line.')"
   ]
  },
  {
   "cell_type": "code",
   "execution_count": 5,
   "metadata": {},
   "outputs": [
    {
     "name": "stdout",
     "output_type": "stream",
     "text": [
      "Hello World \n",
      "This is a new overwrite line.\n"
     ]
    }
   ],
   "source": [
    "with open ('example.txt' , 'r') as file:\n",
    "    content = file.read()\n",
    "    print(content)\n",
    "    "
   ]
  },
  {
   "cell_type": "code",
   "execution_count": 13,
   "metadata": {},
   "outputs": [],
   "source": [
    "with open('example.txt', 'a') as file:\n",
    "    file.write('This is me  \\n')\n",
    "    file.write('Appending a new line in this txt file.\\n')"
   ]
  },
  {
   "cell_type": "code",
   "execution_count": 14,
   "metadata": {},
   "outputs": [],
   "source": [
    "line = ['First line\\n', 'Second Line\\n', 'Third Line\\n']\n",
    "with open('example.txt', 'a') as file:\n",
    "    file.writelines(line)\n",
    "\n"
   ]
  },
  {
   "cell_type": "code",
   "execution_count": 20,
   "metadata": {},
   "outputs": [
    {
     "name": "stdout",
     "output_type": "stream",
     "text": [
      "b'whatever'\n"
     ]
    }
   ],
   "source": [
    "### Binary files\n",
    "\n",
    "'''writing to a binary file'''\n",
    "\n",
    "data = b'whatever'\n",
    "with open('example.bin', 'wb') as file:\n",
    "    file.write(data)\n",
    "\n",
    "\n",
    "with open('example.bin', 'rb') as file:\n",
    "    for i in file:\n",
    "        print(i)"
   ]
  },
  {
   "cell_type": "code",
   "execution_count": 21,
   "metadata": {},
   "outputs": [],
   "source": [
    "## Reading from a file and writing to a file\n",
    "\n",
    "with open('example.txt', 'r') as file:\n",
    "    content = file.read()\n",
    "\n",
    "\n",
    "with open('destination.txt', 'w') as file:\n",
    "    file.write(content)"
   ]
  },
  {
   "cell_type": "code",
   "execution_count": 24,
   "metadata": {},
   "outputs": [
    {
     "name": "stdout",
     "output_type": "stream",
     "text": [
      "lines :10, words:40, chars:213\n"
     ]
    }
   ],
   "source": [
    "def count_text_file(file_path):\n",
    "    with open(file_path, 'r') as file:\n",
    "        lines = file.readlines()\n",
    "        line_count = len(lines)\n",
    "        word_count = sum(len(line.split()) for line in lines)\n",
    "        char_count = sum(len(line) for line in lines)\n",
    "\n",
    "    return line_count, word_count, char_count\n",
    "\n",
    "file_path = 'example.txt'\n",
    "\n",
    "line, word, char = count_text_file(file_path)\n",
    "print(f'lines :{line}, words:{word}, chars:{char}')\n"
   ]
  },
  {
   "cell_type": "code",
   "execution_count": 30,
   "metadata": {},
   "outputs": [
    {
     "name": "stdout",
     "output_type": "stream",
     "text": [
      "Hello World \n",
      "How is the whether today its so pretty outside \n",
      "\n"
     ]
    }
   ],
   "source": [
    "with open('example.txt', 'w+') as file:\n",
    "    file.write(\"Hello World \\n\")\n",
    "    file.write(\"How is the whether today its so pretty outside \\n\")\n",
    "\n",
    "    file.seek(0) ## to point the cursor to the begining of the file\n",
    "\n",
    "    content = file.read()\n",
    "    print(content)\n"
   ]
  },
  {
   "cell_type": "code",
   "execution_count": 31,
   "metadata": {},
   "outputs": [
    {
     "name": "stdout",
     "output_type": "stream",
     "text": [
      "new directory package is created\n"
     ]
    }
   ],
   "source": [
    "## creating a new directory\n",
    "import os\n",
    "new_directory = 'package'\n",
    "os.mkdir(new_directory)\n",
    "\n",
    "print(f'new directory {new_directory} is created')"
   ]
  },
  {
   "cell_type": "code",
   "execution_count": 36,
   "metadata": {},
   "outputs": [
    {
     "name": "stdout",
     "output_type": "stream",
     "text": [
      "['control_flow.ipynb', 'destination.txt', 'example.csv', 'file Handling', 'functions.ipynb', 'Import_package.ipynb', 'lists.ipynb', 'loops.ipynb', 'package', 'source.txt', 'standardLiberary.ipynb', 'test.ipynb', 'test.py', 'tupkes.ipynb']\n"
     ]
    }
   ],
   "source": [
    "# listing all the files and directories\n",
    "items = os.listdir('..')\n",
    "print(items)"
   ]
  },
  {
   "cell_type": "code",
   "execution_count": 39,
   "metadata": {},
   "outputs": [
    {
     "name": "stdout",
     "output_type": "stream",
     "text": [
      "package\\example.txt\n"
     ]
    }
   ],
   "source": [
    "## joining paths \n",
    "dir_name = \"package\"\n",
    "file_name = 'example.txt'\n",
    "full_path = os.path.join(dir_name,file_path)\n",
    "print(full_path)"
   ]
  },
  {
   "cell_type": "code",
   "execution_count": 40,
   "metadata": {},
   "outputs": [
    {
     "name": "stdout",
     "output_type": "stream",
     "text": [
      "d:\\Machine Learning full\\Python\\1- Python Basic\\file Handling\\package\\example.txt\n"
     ]
    }
   ],
   "source": [
    "dir_name = \"package\"\n",
    "file_name = 'example.txt'\n",
    "full_path = os.path.join(os.getcwd(),dir_name,file_path)\n",
    "print(full_path)"
   ]
  },
  {
   "cell_type": "code",
   "execution_count": 43,
   "metadata": {},
   "outputs": [
    {
     "name": "stdout",
     "output_type": "stream",
     "text": [
      "The path example.txt exists\n"
     ]
    }
   ],
   "source": [
    "path = 'example.txt'\n",
    "if os.path.exists(path):\n",
    "    print(f'The path {path} exists')\n",
    "\n",
    "else:\n",
    "    print(f'The path {path} doesnt exists')"
   ]
  },
  {
   "cell_type": "code",
   "execution_count": null,
   "metadata": {},
   "outputs": [],
   "source": []
  },
  {
   "cell_type": "code",
   "execution_count": null,
   "metadata": {},
   "outputs": [],
   "source": []
  }
 ],
 "metadata": {
  "kernelspec": {
   "display_name": "Python 3",
   "language": "python",
   "name": "python3"
  },
  "language_info": {
   "codemirror_mode": {
    "name": "ipython",
    "version": 3
   },
   "file_extension": ".py",
   "mimetype": "text/x-python",
   "name": "python",
   "nbconvert_exporter": "python",
   "pygments_lexer": "ipython3",
   "version": "3.12.0"
  }
 },
 "nbformat": 4,
 "nbformat_minor": 2
}
