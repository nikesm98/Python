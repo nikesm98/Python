{
 "cells": [
  {
   "cell_type": "markdown",
   "metadata": {},
   "source": [
    "## UnderStanding Exception\n",
    "It allows you to handle errors and take corrective actions without stopping excecutions of the program"
   ]
  },
  {
   "cell_type": "markdown",
   "metadata": {},
   "source": [
    "## What is Executions ?\n"
   ]
  },
  {
   "cell_type": "code",
   "execution_count": 2,
   "metadata": {},
   "outputs": [
    {
     "name": "stdout",
     "output_type": "stream",
     "text": [
      "The variable has not been assigned\n"
     ]
    }
   ],
   "source": [
    "## Exception Handling\n",
    "\n",
    "try:\n",
    "    a = b\n",
    "\n",
    "except:\n",
    "    print(\"The variable has not been assigned.\")"
   ]
  },
  {
   "cell_type": "code",
   "execution_count": 3,
   "metadata": {},
   "outputs": [
    {
     "name": "stdout",
     "output_type": "stream",
     "text": [
      "name 'b' is not defined\n"
     ]
    }
   ],
   "source": [
    "try:\n",
    "    a = b\n",
    "\n",
    "except NameError as x:\n",
    "    print(x)"
   ]
  },
  {
   "cell_type": "code",
   "execution_count": 9,
   "metadata": {},
   "outputs": [
    {
     "name": "stdout",
     "output_type": "stream",
     "text": [
      "division by zero\n",
      "Enter the denominator > 0\n"
     ]
    }
   ],
   "source": [
    "try:\n",
    "    result = 1/0\n",
    "    a = b\n",
    "\n",
    "except ZeroDivisionError as x:\n",
    "    print(x)\n",
    "    print(\"Enter the denominator > 0\")\n",
    "\n",
    "except Exception as ex1:\n",
    "    print(ex1)\n",
    "\n",
    "    print(\"Main Exception got caught\")\n"
   ]
  },
  {
   "cell_type": "code",
   "execution_count": 14,
   "metadata": {},
   "outputs": [
    {
     "name": "stdout",
     "output_type": "stream",
     "text": [
      "The result is 0.43478260869565216\n"
     ]
    }
   ],
   "source": [
    "try:\n",
    "    num = int(input(\"enter any number you want\"))\n",
    "    result = 10/num\n",
    "    print(result)\n",
    "\n",
    "except ValueError:\n",
    "    print(\"This is not a valid number\")\n",
    "\n",
    "except ZeroDivisionError:\n",
    "    print(\"enter the number greater than zero\")\n",
    "\n",
    "except Exception as ex1:\n",
    "    print(ex1)"
   ]
  },
  {
   "cell_type": "code",
   "execution_count": 15,
   "metadata": {},
   "outputs": [
    {
     "name": "stdout",
     "output_type": "stream",
     "text": [
      "The result is 0.43478260869565216\n"
     ]
    }
   ],
   "source": [
    "## try, except and else\n",
    "try:\n",
    "    num = int(input(\"enter any number you want\"))\n",
    "    result = 10/num\n",
    "    \n",
    "\n",
    "except ValueError:\n",
    "    print(\"This is not a valid number\")\n",
    "\n",
    "except ZeroDivisionError:\n",
    "    print(\"enter the number greater than zero\")\n",
    "\n",
    "except Exception as ex1:\n",
    "    print(ex1)\n",
    "\n",
    "else:\n",
    "    print(f'The result is {result}')\n",
    "    "
   ]
  },
  {
   "cell_type": "code",
   "execution_count": 16,
   "metadata": {},
   "outputs": [
    {
     "name": "stdout",
     "output_type": "stream",
     "text": [
      "The result is 0.43478260869565216\n",
      "Execution Successfull\n"
     ]
    }
   ],
   "source": [
    "## try, except, else and finally\n",
    "try:\n",
    "    num = int(input(\"enter any number you want\"))\n",
    "    result = 10/num\n",
    "    \n",
    "\n",
    "except ValueError:\n",
    "    print(\"This is not a valid number\")\n",
    "\n",
    "except ZeroDivisionError:\n",
    "    print(\"enter the number greater than zero\")\n",
    "\n",
    "except Exception as ex1:\n",
    "    print(ex1)\n",
    "\n",
    "else:\n",
    "    print(f'The result is {result}')\n",
    "\n",
    "finally:\n",
    "    print('Execution Successfull')\n"
   ]
  },
  {
   "cell_type": "code",
   "execution_count": 22,
   "metadata": {},
   "outputs": [
    {
     "name": "stdout",
     "output_type": "stream",
     "text": [
      "Hello World \n",
      "How is the whether today its so pretty outside \n",
      "\n"
     ]
    }
   ],
   "source": [
    "## file handling and Exception Handling\n",
    "try:\n",
    "    with open ('../file Handling/example.txt', 'r') as file:\n",
    "        read_file = file.read()\n",
    "        print(read_file)\n",
    "\n",
    "\n",
    "except FileNotFoundError:\n",
    "    print('The file doesnt exist')\n"
   ]
  },
  {
   "cell_type": "code",
   "execution_count": null,
   "metadata": {},
   "outputs": [],
   "source": []
  },
  {
   "cell_type": "code",
   "execution_count": null,
   "metadata": {},
   "outputs": [],
   "source": []
  },
  {
   "cell_type": "code",
   "execution_count": null,
   "metadata": {},
   "outputs": [],
   "source": []
  },
  {
   "cell_type": "code",
   "execution_count": null,
   "metadata": {},
   "outputs": [],
   "source": []
  },
  {
   "cell_type": "code",
   "execution_count": null,
   "metadata": {},
   "outputs": [],
   "source": []
  },
  {
   "cell_type": "code",
   "execution_count": null,
   "metadata": {},
   "outputs": [],
   "source": []
  },
  {
   "cell_type": "code",
   "execution_count": null,
   "metadata": {},
   "outputs": [],
   "source": []
  },
  {
   "cell_type": "code",
   "execution_count": null,
   "metadata": {},
   "outputs": [],
   "source": []
  },
  {
   "cell_type": "code",
   "execution_count": null,
   "metadata": {},
   "outputs": [],
   "source": []
  },
  {
   "cell_type": "code",
   "execution_count": null,
   "metadata": {},
   "outputs": [],
   "source": []
  },
  {
   "cell_type": "code",
   "execution_count": null,
   "metadata": {},
   "outputs": [],
   "source": []
  },
  {
   "cell_type": "code",
   "execution_count": null,
   "metadata": {},
   "outputs": [],
   "source": []
  },
  {
   "cell_type": "code",
   "execution_count": null,
   "metadata": {},
   "outputs": [],
   "source": []
  }
 ],
 "metadata": {
  "kernelspec": {
   "display_name": "Python 3",
   "language": "python",
   "name": "python3"
  },
  "language_info": {
   "codemirror_mode": {
    "name": "ipython",
    "version": 3
   },
   "file_extension": ".py",
   "mimetype": "text/x-python",
   "name": "python",
   "nbconvert_exporter": "python",
   "pygments_lexer": "ipython3",
   "version": "3.12.0"
  }
 },
 "nbformat": 4,
 "nbformat_minor": 2
}
